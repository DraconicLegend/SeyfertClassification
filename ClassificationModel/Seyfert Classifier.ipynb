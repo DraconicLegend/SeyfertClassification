{
 "cells": [
  {
   "cell_type": "code",
   "execution_count": 1,
   "id": "d95c622d",
   "metadata": {},
   "outputs": [],
   "source": [
    "import pandas as pd\n",
    "import numpy as np\n",
    "from numpy import genfromtxt\n",
    "from matplotlib import pyplot as plt\n",
    "from sklearn.metrics import confusion_matrix\n",
    "from sklearn.model_selection import cross_val_predict\n",
    "from sklearn.tree import DecisionTreeClassifier\n",
    "from sklearn.ensemble import RandomForestClassifier\n",
    "from itertools import product"
   ]
  },
  {
   "cell_type": "code",
   "execution_count": 2,
   "id": "cb72cead",
   "metadata": {},
   "outputs": [],
   "source": [
    "# https://stackoverflow.com/questions/354038/how-do-i-check-if-a-string-represents-a-number-float-or-int\n"
   ]
  },
  {
   "cell_type": "code",
   "execution_count": 3,
   "id": "c28a6284",
   "metadata": {},
   "outputs": [],
   "source": [
    "df= pd.read_csv(\"modelSeyfertData.csv\")\n",
    "\n",
    "df =df.dropna()\n",
    "df = df.reset_index()\n",
    "data=df.to_numpy() \n"
   ]
  },
  {
   "cell_type": "markdown",
   "id": "835de13c",
   "metadata": {},
   "source": [
    "# 2) Helper Functions"
   ]
  },
  {
   "cell_type": "code",
   "execution_count": 4,
   "id": "47119e7e",
   "metadata": {},
   "outputs": [],
   "source": [
    "def splitdata_train_test(data, fraction_training):\n",
    "  \n",
    "    np.random.seed(0)\n",
    "    np.random.shuffle(data)\n",
    "  \n",
    "    split = int((data.shape[0])*fraction_training)\n",
    "    training_set = data[:split]\n",
    "    testing_set = data[split:]\n",
    "    return training_set, testing_set"
   ]
  },
  {
   "cell_type": "code",
   "execution_count": 5,
   "id": "5f66fd18",
   "metadata": {},
   "outputs": [],
   "source": [
    "def generate_features_targets(data):\n",
    "  # complete the function by calculating the concentrations\n",
    "#     print(data[0])\n",
    "    targets = data[:,2]\n",
    "#     array([545553, 'Sy1', 'SAB', 0.03664, 16.46, 16.08, 16.047, 15.192,\n",
    "#        14.626, 14.314, 14.093], dtype=object)\n",
    "    #Shape as you need\n",
    "    features = np.empty(shape=(len(data), 7))\n",
    "#     print(features)\n",
    "    features[:, 0] = data[:,4]#Redshift\n",
    "    features[:, 1] = data[:,5]#B Value\n",
    "    features[:, 2] = data[:,6]#V Value\n",
    "    features[:, 3] = data[:,7]-data[:,8]#u-g\n",
    "    features[:, 4] = data[:,8]-data[:,9]#g-r\n",
    "    features[:, 5] = data[:,9]-data[:,10]#r-i\n",
    "    features[:, 6] = data[:,10]-data[:,11]#i-z\n",
    "    return features, targets\n",
    "# generate_features_targets(data)"
   ]
  },
  {
   "cell_type": "code",
   "execution_count": 6,
   "id": "fffb612e",
   "metadata": {},
   "outputs": [],
   "source": [
    "def plot_confusion_matrix(cm, classes,\n",
    "                          normalize=False,\n",
    "                          title='Confusion matrix',\n",
    "                          cmap=plt.cm.Blues):\n",
    "    \"\"\"\n",
    "    This function prints and plots the confusion matrix.\n",
    "    Normalization can be applied by setting `normalize=True`.\n",
    "    \"\"\"\n",
    "    plt.imshow(cm, interpolation='nearest', cmap=cmap)\n",
    "    plt.title(title)\n",
    "    plt.colorbar()\n",
    "    tick_marks = np.arange(len(classes))\n",
    "    plt.xticks(tick_marks, classes, rotation=45)\n",
    "    plt.yticks(tick_marks, classes)\n",
    "\n",
    "    if normalize:\n",
    "        cm = cm.astype('float') / cm.sum(axis=1)[:, np.newaxis]\n",
    "        print(\"Normalized confusion matrix\")\n",
    "    else:\n",
    "        print('Confusion matrix, without normalization')\n",
    "\n",
    "#     print(cm)\n",
    "\n",
    "    thresh = cm.max() / 2.\n",
    "    for i, j in product(range(cm.shape[0]), range(cm.shape[1])):\n",
    "        plt.text(j, i, \"{}\".format(cm[i, j]),\n",
    "                 horizontalalignment=\"center\",\n",
    "                 color=\"white\" if cm[i, j] > thresh else \"black\")\n",
    "\n",
    "    plt.tight_layout()\n",
    "    plt.ylabel('True Class')\n",
    "    plt.xlabel('Predicted Class')\n"
   ]
  },
  {
   "cell_type": "code",
   "execution_count": 7,
   "id": "14e1f5f2",
   "metadata": {},
   "outputs": [],
   "source": [
    "def calculate_accuracy(predicted, actual):\n",
    "    return sum(predicted == actual)/len(actual)"
   ]
  },
  {
   "cell_type": "markdown",
   "id": "d6829df3",
   "metadata": {},
   "source": [
    "# 3) Decision Tree Model"
   ]
  },
  {
   "cell_type": "code",
   "execution_count": 8,
   "id": "d9566c1e",
   "metadata": {},
   "outputs": [],
   "source": [
    "def dtc_predict_actual(data):\n",
    "    # split the data into training and testing sets using a training fraction of 0.7\n",
    "    train_set,test_set=splitdata_train_test(data,0.9)\n",
    "    # generate the feature and targets for the training and test sets\n",
    "    # i.e. train_features, train_targets, test_features, test_targets\n",
    "    train_features, train_targets=generate_features_targets(train_set)\n",
    "    test_features,test_targets=generate_features_targets(test_set)\n",
    "    # initialize model\n",
    "    dtc = DecisionTreeClassifier()\n",
    "    \n",
    "    # train the model\n",
    "    dtc.fit(train_features, train_targets)\n",
    "    \n",
    "    # make predictions using the same features\n",
    "    predictions = dtc.predict(test_features)\n",
    "    \n",
    "    # return the predictions and the test_targets\n",
    "    return predictions, test_targets,dtc\n"
   ]
  },
  {
   "cell_type": "code",
   "execution_count": 9,
   "id": "6c8a0983",
   "metadata": {},
   "outputs": [
    {
     "name": "stdout",
     "output_type": "stream",
     "text": [
      "Our accuracy score: 0.7647058823529411\n",
      "Confusion matrix, without normalization\n"
     ]
    },
    {
     "data": {
      "image/png": "[encoded data removed]",
      "text/plain": [
       "<Figure size 640x480 with 2 Axes>"
      ]
     },
     "metadata": {},
     "output_type": "display_data"
    }
   ],
   "source": [
    "predicted,targets,dtc=dtc_predict_actual(data)\n",
    "\n",
    "# calculate the model score using your function\n",
    "model_score = calculate_accuracy(predicted, targets)\n",
    "print(\"Our accuracy score:\", model_score)\n",
    "j=model_score\n",
    "# calculate the models confusion matrix using sklearns confusion_matrix function\n",
    "class_labels = list(set(targets))\n",
    "model_cm = confusion_matrix(y_true=targets, y_pred=predicted, labels=class_labels)\n",
    "\n",
    "# Plot the confusion matrix using the provided functions.\n",
    "plt.figure()\n",
    "plot_confusion_matrix(model_cm, classes=class_labels, normalize=False)\n",
    "plt.show()"
   ]
  },
  {
   "cell_type": "code",
   "execution_count": 10,
   "id": "f598435b",
   "metadata": {},
   "outputs": [
    {
     "data": {
      "text/plain": [
       "Index(['morph_type', 'rvz_redshift', 'B'], dtype='object')"
      ]
     },
     "execution_count": 10,
     "metadata": {},
     "output_type": "execute_result"
    }
   ],
   "source": [
    "df.columns[3:6]\n",
    "\n",
    "# fig = plt.figure(figsize=(25,20))\n",
    "# _ = tree.plot_tree(dtc, \n",
    "#                    feature_names=\n",
    "#                    class_names=data.target_names,\n",
    "#                    filled=True)\n"
   ]
  },
  {
   "cell_type": "markdown",
   "id": "e5c8989b",
   "metadata": {},
   "source": [
    "# 4) Random Forest Model"
   ]
  },
  {
   "cell_type": "code",
   "execution_count": 11,
   "id": "9c027264",
   "metadata": {},
   "outputs": [],
   "source": [
    "def rf_predict_actual(data, n):\n",
    "    # generate the features and targets\n",
    "    features,targets =generate_features_targets(data)\n",
    "\n",
    "    # instantiate a random forest classifier using n estimators\n",
    "    rfc = RandomForestClassifier(n_estimators=n)\n",
    "    # get predictions using 10-fold cross validation with cross_val_predict\n",
    "    predicted = cross_val_predict(rfc, features, targets, cv=10)\n",
    "    # return the predictions and their actual classes\n",
    "    return predicted,targets\n"
   ]
  },
  {
   "cell_type": "code",
   "execution_count": 12,
   "id": "da5595af",
   "metadata": {},
   "outputs": [],
   "source": [
    "# https://www.geeksforgeeks.org/random-forest-classifier-using-scikit-learn/\n",
    "def mySecondRandomForest(data,n):\n",
    "    train_set,test_set=splitdata_train_test(data,0.9)\n",
    "    train_features, train_targets=generate_features_targets(train_set)\n",
    "    test_features,test_targets=generate_features_targets(test_set)\n",
    "    \n",
    "    clf = RandomForestClassifier(n_estimators = n)  \n",
    "    \n",
    "    # Training the model on the training dataset\n",
    "    # fit function is used to train the model using the training sets as parameters\n",
    "    clf.fit(train_features, train_targets)\n",
    "\n",
    "    # performing predictions on the test dataset\n",
    "    predictions = clf.predict(test_features)\n",
    "    return predictions,test_targets"
   ]
  },
  {
   "cell_type": "code",
   "execution_count": 13,
   "id": "a7ab2a46",
   "metadata": {},
   "outputs": [
    {
     "name": "stdout",
     "output_type": "stream",
     "text": [
      "Accuracy score: 0.788235294117647\n",
      "Confusion matrix, without normalization\n"
     ]
    },
    {
     "data": {
      "image/png": "[encoded data removed]",
      "text/plain": [
       "<Figure size 640x480 with 2 Axes>"
      ]
     },
     "metadata": {},
     "output_type": "display_data"
    }
   ],
   "source": [
    "number_estimators =100              # Number of trees\n",
    "# predicted, actual = rf_predict_actual(data, number_estimators)\n",
    "predicted,actual=mySecondRandomForest(data,number_estimators)\n",
    "# calculate the model score using your function\n",
    "accuracy = calculate_accuracy(predicted, actual)\n",
    "print(\"Accuracy score:\", accuracy)\n",
    "k=accuracy\n",
    "# calculate the models confusion matrix using sklearns confusion_matrix function\n",
    "class_labels = list(set(actual))\n",
    "model_cm = confusion_matrix(y_true=actual, y_pred=predicted, labels=class_labels)\n",
    "\n",
    "# plot the confusion matrix using the provided functions.\n",
    "plt.figure()\n",
    "plot_confusion_matrix(model_cm, classes=class_labels, normalize=False)\n",
    "plt.show()"
   ]
  },
  {
   "cell_type": "markdown",
   "id": "b8cc1d05",
   "metadata": {},
   "source": [
    "Note:\n",
    "    Solving the NaN error:https://stackoverflow.com/questions/31323499/sklearn-error-valueerror-input-contains-nan-infinity-or-a-value-too-large-for\n",
    "            "
   ]
  },
  {
   "cell_type": "code",
   "execution_count": null,
   "id": "d4351a08",
   "metadata": {},
   "outputs": [],
   "source": []
  }
 ],
 "metadata": {
  "kernelspec": {
   "display_name": "Python 3 (ipykernel)",
   "language": "python",
   "name": "python3"
  },
  "language_info": {
   "codemirror_mode": {
    "name": "ipython",
    "version": 3
   },
   "file_extension": ".py",
   "mimetype": "text/x-python",
   "name": "python",
   "nbconvert_exporter": "python",
   "pygments_lexer": "ipython3",
   "version": "3.10.11"
  }
 },
 "nbformat": 4,
 "nbformat_minor": 5
}
